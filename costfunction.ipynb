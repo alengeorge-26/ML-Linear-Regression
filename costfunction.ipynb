{
  "nbformat": 4,
  "nbformat_minor": 0,
  "metadata": {
    "colab": {
      "provenance": [],
      "authorship_tag": "ABX9TyNK6r9PPJqAizMeruRr9fjr",
      "include_colab_link": true
    },
    "kernelspec": {
      "name": "python3",
      "display_name": "Python 3"
    },
    "language_info": {
      "name": "python"
    },
    "gpuClass": "standard"
  },
  "cells": [
    {
      "cell_type": "markdown",
      "metadata": {
        "id": "view-in-github",
        "colab_type": "text"
      },
      "source": [
        "<a href=\"https://colab.research.google.com/github/alengeorge-26/ML-Linear-Regression/blob/main/costfunction.ipynb\" target=\"_parent\"><img src=\"https://colab.research.google.com/assets/colab-badge.svg\" alt=\"Open In Colab\"/></a>"
      ]
    },
    {
      "cell_type": "code",
      "execution_count": null,
      "metadata": {
        "id": "gj71qUjTTVPe"
      },
      "outputs": [],
      "source": [
        "import numpy as np\n",
        "import matplotlib.pyplot as plt"
      ]
    },
    {
      "cell_type": "code",
      "source": [
        "x_train=np.array([1.0,2.0])\n",
        "y_train=np.array([300.0,500.0])\n",
        "\n",
        "w=200\n",
        "b=100"
      ],
      "metadata": {
        "id": "_OVYaShrWQWs"
      },
      "execution_count": 17,
      "outputs": []
    },
    {
      "cell_type": "code",
      "source": [
        "def compute_cost(x,y,w,b):\n",
        "\n",
        "  m=x.shape[0]\n",
        "  cost_sum=0\n",
        "  for i in range(m):\n",
        "    f_wb=w*x[i]+b\n",
        "    cost=(f_wb-y[i])**2\n",
        "    cost_sum=cost_sum+cost\n",
        " \n",
        "  total_cost=(1/(2*m))*cost_sum\n",
        "\n",
        "  return total_cost"
      ],
      "metadata": {
        "id": "AE3CtZMCXGFo"
      },
      "execution_count": 18,
      "outputs": []
    },
    {
      "cell_type": "code",
      "source": [
        "tmp_f_wb =compute_cost(x_train,y_train ,w, b)\n",
        "\n",
        "plt.plot(w, tmp_f_wb, c='b',label='Cost Function')\n",
        "plt.title(\"Cost Function\")\n",
        "plt.ylabel('Cost')\n",
        "plt.xlabel('w')\n",
        "plt.legend()\n",
        "plt.show()"
      ],
      "metadata": {
        "colab": {
          "base_uri": "https://localhost:8080/",
          "height": 295
        },
        "id": "NMIKitzHF2Op",
        "outputId": "462cfb36-046e-4581-eb7b-e9514beea0bc"
      },
      "execution_count": 19,
      "outputs": [
        {
          "output_type": "display_data",
          "data": {
            "text/plain": [
              "<Figure size 432x288 with 1 Axes>"
            ],
            "image/png": "[encoded data removed]"
          },
          "metadata": {
            "needs_background": "light"
          }
        }
      ]
    }
  ]
}